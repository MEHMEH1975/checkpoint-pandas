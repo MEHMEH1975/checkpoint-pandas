{
 "cells": [
  {
   "cell_type": "code",
   "execution_count": 51,
   "id": "38e823a8",
   "metadata": {},
   "outputs": [],
   "source": [
    "#exercice1\n",
    "import pandas as pd\n",
    "import numpy as np\n",
    "exam_data = {'name': ['Anastasia', 'Dima', 'Katherine', 'James', 'Emily', 'Michael', 'Matthew', 'Laura', 'Kevin', 'Jonas'],\n",
    "\n",
    "'score': [12.5, 9, 16.5, np.nan, 9, 20, 14.5, np.nan, 8, 19],\n",
    "\n",
    "'attempts': [1, 3, 2, 3, 2, 3, 1, 1, 2, 1],\n",
    "\n",
    "'qualify': ['yes', 'no', 'yes', 'no', 'no', 'yes', 'yes', 'no', 'no', 'yes']}\n",
    "\n",
    "labels = ['a', 'b', 'c', 'd', 'e', 'f', 'g', 'h', 'i', 'j'];\n",
    "\n",
    "df=pd.DataFrame(exam_data,index=labels)\n",
    "df.head(3)\n",
    "df.dropna()\n",
    "df[[\"name\",\"score\"]]\n",
    "\n",
    "\n",
    "\n",
    "\n",
    "\n",
    "\n",
    "\n",
    "\n",
    "\n"
   ]
  },
  {
   "cell_type": "code",
   "execution_count": 88,
   "id": "17a90fbb",
   "metadata": {},
   "outputs": [
    {
     "ename": "SyntaxError",
     "evalue": "invalid syntax (2164346795.py, line 7)",
     "output_type": "error",
     "traceback": [
      "\u001b[1;36m  Input \u001b[1;32mIn [88]\u001b[1;36m\u001b[0m\n\u001b[1;33m    df3['Success']=1 if df1>1\u001b[0m\n\u001b[1;37m                             ^\u001b[0m\n\u001b[1;31mSyntaxError\u001b[0m\u001b[1;31m:\u001b[0m invalid syntax\n"
     ]
    }
   ],
   "source": [
    "df1=pd.DataFrame({\"name\":[\"Suresh\"],\"score\":[15.5],\"attempts\":[1],\"qualify\":[\"yes\"]})\n",
    "df2=df.append(df1)\n",
    "df3=df2.rename(index={0:'k'})\n",
    "#mehode2 for k   :df.lock[\"k\"]=[\"Suresh\",15.5,yes]\n",
    "df3\n",
    "df3.drop(\"attempts\",axis=1)\n",
    "\n",
    "\n",
    "\n",
    "\n",
    "\n"
   ]
  },
  {
   "cell_type": "code",
   "execution_count": 92,
   "id": "a946640a",
   "metadata": {},
   "outputs": [
    {
     "name": "stdout",
     "output_type": "stream",
     "text": [
      "        name  score  attempts qualify succes\n",
      "a  Anastasia   12.5         1     yes      1\n",
      "b       Dima    9.0         3      no      1\n",
      "c  Katherine   16.5         2     yes      1\n",
      "d      James    NaN         3      no      1\n",
      "e      Emily    9.0         2      no      1\n",
      "f    Michael   20.0         3     yes      1\n",
      "g    Matthew   14.5         1     yes      1\n",
      "h      Laura    NaN         1      no      1\n",
      "i      Kevin    8.0         2      no      1\n",
      "j      Jonas   19.0         1     yes      1\n",
      "k     Suresh   15.5         1     yes      1\n"
     ]
    }
   ],
   "source": [
    "for index,row in df3.iterrows():\n",
    "    if row['score']>10:\n",
    "        df3['succes']=\"1\"\n",
    "    else:\n",
    "        df3['succes']=\"0\"\n",
    "print(df3)\n",
    "    \n",
    "        "
   ]
  },
  {
   "cell_type": "code",
   "execution_count": 93,
   "id": "a7cea6e0",
   "metadata": {},
   "outputs": [],
   "source": [
    "df3.to_csv('my_data')"
   ]
  },
  {
   "cell_type": "code",
   "execution_count": null,
   "id": "8b0dfdbd",
   "metadata": {},
   "outputs": [],
   "source": []
  }
 ],
 "metadata": {
  "kernelspec": {
   "display_name": "Python 3 (ipykernel)",
   "language": "python",
   "name": "python3"
  },
  "language_info": {
   "codemirror_mode": {
    "name": "ipython",
    "version": 3
   },
   "file_extension": ".py",
   "mimetype": "text/x-python",
   "name": "python",
   "nbconvert_exporter": "python",
   "pygments_lexer": "ipython3",
   "version": "3.9.12"
  }
 },
 "nbformat": 4,
 "nbformat_minor": 5
}
